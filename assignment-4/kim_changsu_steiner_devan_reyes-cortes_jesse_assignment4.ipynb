{
 "cells": [
  {
   "cell_type": "code",
   "execution_count": 5,
   "metadata": {},
   "outputs": [],
   "source": [
    "# csce478    Programming Assignment 4     Fall 2020                                   Due: Nov 17 11am\n",
    "# Linear Support Vector Machine & Principle Component Analysis\n",
    "# Contributers: Chungsum Kim, Devn Steiner, Jesse Reyes Cortes\n",
    "\n",
    "#imported packages\n",
    "import pandas as pd\n",
    "import numpy as np\n",
    "import math\n",
    "import copy\n",
    "import itertools\n",
    "from random import sample \n",
    "import nltk\n",
    "import matplotlib.pyplot as plt\n",
    "from sklearn.datasets import load_iris"
   ]
  },
  {
   "cell_type": "code",
   "execution_count": 2,
   "metadata": {},
   "outputs": [
    {
     "ename": "SyntaxError",
     "evalue": "invalid syntax (<ipython-input-2-e6772d91a836>, line 7)",
     "output_type": "error",
     "traceback": [
      "\u001b[0;36m  File \u001b[0;32m\"<ipython-input-2-e6772d91a836>\"\u001b[0;36m, line \u001b[0;32m7\u001b[0m\n\u001b[0;31m    validation_fraction=0.1, **kwargs)\u001b[0m\n\u001b[0m                                      ^\u001b[0m\n\u001b[0;31mSyntaxError\u001b[0m\u001b[0;31m:\u001b[0m invalid syntax\n"
     ]
    }
   ],
   "source": [
    "# Part A : Linear Support Vector Machine (SVM)\n",
    "\n",
    "# A.1 implement Linear_SVC model class for performing binary classification\n",
    "\n",
    "class Linear_SVC:\n",
    "    def __init__(self, C=1, max_iter=100, tol=None, learning_rate=\"constant\",learning_rate_init=0.001, t_0=1, t_1=1000, early_stopping=False, validation_fraction=0.1, **kwargs):\n",
    "        print(\"Linear\")\n",
    "        \n",
    "    def fit(self, X, Y):\n",
    "        print(\"Linear\")\n",
    "        \n",
    "    def predict(self, X):\n",
    "        print(\"Linear\")"
   ]
  },
  {
   "cell_type": "code",
   "execution_count": 28,
   "metadata": {},
   "outputs": [],
   "source": [
    "# Binary Classification using Linear_SVC Classifier\n",
    "\n",
    "# A.2 read the iris data, X features: petal length & petal width, recode binary target such that Iris-Virginica is 1 or 0\n",
    "data = load_iris()\n",
    "\n",
    "pl = data[\"data\"][:,2]\n",
    "pw = data[\"data\"][:,3]\n",
    "X = np.zeros((len(pl), 2))\n",
    "X[:,0] = pl\n",
    "X[:,1] = pw\n",
    "\n",
    "target = np.where(data['target'] == 2, 1, 0)"
   ]
  },
  {
   "cell_type": "code",
   "execution_count": null,
   "metadata": {},
   "outputs": [],
   "source": [
    "# A.3 partition data into train & test set (80% - 20%)\n",
    "def partition(X, Y, t):     \n",
    "    test_size = math.ceil(len(Y)*t)\n",
    "    training_size = len(Y)-test_size\n",
    "    training_data = X[0:training_size][:]\n",
    "    testing_data = X[training_size+1:len(Y)] [:]\n",
    "    training_vector = Y[0:training_size]\n",
    "    testing_vector = Y[training_size+1:len(Y)]\n",
    "    \n",
    "    return training_data, testing_data, training_vector, testing_vector"
   ]
  },
  {
   "cell_type": "code",
   "execution_count": null,
   "metadata": {},
   "outputs": [],
   "source": [
    "# A.4 Hyper-parameter training(kFold - C, learning_rate, max_iter, tol)\n"
   ]
  },
  {
   "cell_type": "code",
   "execution_count": null,
   "metadata": {},
   "outputs": [],
   "source": [
    "# A.5 train model using optimal values for hyperparameters on test data, report accuracy and test confusion matrix\n"
   ]
  },
  {
   "cell_type": "code",
   "execution_count": null,
   "metadata": {},
   "outputs": [],
   "source": [
    "# A.6 plot the learning curve\n"
   ]
  },
  {
   "cell_type": "code",
   "execution_count": null,
   "metadata": {},
   "outputs": [],
   "source": [
    "# A.7 plot the decision boundary and show support vectors using “decision_boundary_support_vectors”\n",
    "# https://github.com/rhasanbd/Support-Vector-Machine-Classifier-Beginners-Survival-Kit/blob/master/Support%20Vector%20Machine-1-Linearly%20Separable%20Data.ipynb\n",
    "# Draw a scatter plot\n",
    "\n",
    "plt.figure(figsize=(16,8))\n",
    "plt.plot(X[:, 0][y==1], X[:, 1][y==1], \"bo\", label=\"Class 0\")\n",
    "plt.plot(X[:, 0][y==0], X[:, 1][y==0], \"ro\", label=\"Class 1\")\n",
    "plt.title(\"Linearly Separable Data: No Outliers\", fontsize=18)\n",
    "plt.legend(loc=2)\n",
    "plt.xlabel(\"$x_1$\", fontsize=12)\n",
    "plt.ylabel(\"$x_2$\", rotation=90, fontsize=12)\n",
    "plt.xticks(())\n",
    "plt.yticks(())\n",
    "plt.show()"
   ]
  },
  {
   "cell_type": "code",
   "execution_count": null,
   "metadata": {},
   "outputs": [],
   "source": [
    "# A.8 implement early stopping in the \"fit\" method of the Linear_SVC model, generate early stopping code\n"
   ]
  },
  {
   "cell_type": "code",
   "execution_count": null,
   "metadata": {},
   "outputs": [],
   "source": [
    "# Part B: Principle Component Analysis\n",
    "\n",
    "# B.9 using matplotlib.pyploy \"imread\" function read the image as a 2D matrix\n"
   ]
  },
  {
   "cell_type": "code",
   "execution_count": null,
   "metadata": {},
   "outputs": [],
   "source": [
    "# B.10 implement steps of eigendecomposition based PCA on X\n",
    "\n"
   ]
  },
  {
   "cell_type": "code",
   "execution_count": null,
   "metadata": {},
   "outputs": [],
   "source": [
    "# B.11 find top k eigenvectors and create eigen vector matrix using top k eigenvectors\n"
   ]
  },
  {
   "cell_type": "code",
   "execution_count": null,
   "metadata": {},
   "outputs": [],
   "source": [
    "# B.12 finally project mean centered data on the k top eigenvectors\n"
   ]
  },
  {
   "cell_type": "code",
   "execution_count": null,
   "metadata": {},
   "outputs": [],
   "source": [
    "# B.13 reconstruct data matrix by taking dot product between projected data and transpose of top K eigenvec matrix\n"
   ]
  },
  {
   "cell_type": "code",
   "execution_count": null,
   "metadata": {},
   "outputs": [],
   "source": [
    "# B.14 compute reconstruction error between mean centered data matrix X and reconstructed data matrix\n"
   ]
  },
  {
   "cell_type": "code",
   "execution_count": null,
   "metadata": {},
   "outputs": [],
   "source": [
    "# B.15 perform steps 11-14 for k: 10, 30, 50, 100, 500\n",
    "# for each k reconstruct image & print the value of k and reconstruction error"
   ]
  }
 ],
 "metadata": {
  "kernelspec": {
   "display_name": "Python 3",
   "language": "python",
   "name": "python3"
  },
  "language_info": {
   "codemirror_mode": {
    "name": "ipython",
    "version": 3
   },
   "file_extension": ".py",
   "mimetype": "text/x-python",
   "name": "python",
   "nbconvert_exporter": "python",
   "pygments_lexer": "ipython3",
   "version": "3.8.0"
  }
 },
 "nbformat": 4,
 "nbformat_minor": 4
}
