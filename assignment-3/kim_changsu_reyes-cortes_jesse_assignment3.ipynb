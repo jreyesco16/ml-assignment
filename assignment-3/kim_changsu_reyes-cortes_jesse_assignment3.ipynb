{
 "cells": [
  {
   "cell_type": "code",
   "execution_count": 6,
   "metadata": {},
   "outputs": [],
   "source": [
    "# csce 487 intro to ML\n",
    "# assignment 3 - Naive Bays Classifier & Logistic Regression\n",
    "# collaborators : Changsu Kim, Jesse Reyes Cortes\n",
    "\n",
    "\n",
    "#################             NAIVE BAYES CLASSIFIER             #################\n",
    "\n",
    "# part A: model code (design multinomial naive bayes)\n",
    "import numpy as np\n",
    "import pandas as pd\n"
   ]
  },
  {
   "cell_type": "code",
   "execution_count": 7,
   "metadata": {},
   "outputs": [
    {
     "name": "stdout",
     "output_type": "stream",
     "text": [
      "      spam                                               text\n",
      "0      ham                      Ok lar... Joking wif u oni...\n",
      "1     spam  Free entry in 2 a wkly comp to win FA Cup fina...\n",
      "2      ham  U dun say so early hor... U c already then say...\n",
      "3      ham  Nah I don't think he goes to usf, he lives aro...\n",
      "4     spam  FreeMsg Hey there darling it's been 3 week's n...\n",
      "...    ...                                                ...\n",
      "5566  spam  This is the 2nd time we have tried 2 contact u...\n",
      "5567   ham               Will ü b going to esplanade fr home?\n",
      "5568   ham  Pity, * was in mood for that. So...any other s...\n",
      "5569   ham  The guy did some bitching but I acted like i'd...\n",
      "5570   ham                         Rofl. Its true to its name\n",
      "\n",
      "[5571 rows x 2 columns]\n",
      "<class 'pandas.core.frame.DataFrame'>\n",
      "RangeIndex: 5571 entries, 0 to 5570\n",
      "Data columns (total 2 columns):\n",
      " #   Column  Non-Null Count  Dtype \n",
      "---  ------  --------------  ----- \n",
      " 0   spam    5571 non-null   int32 \n",
      " 1   text    5571 non-null   object\n",
      "dtypes: int32(1), object(1)\n",
      "memory usage: 65.4+ KB\n",
      "Dimension of the data:  (5571, 2)\n"
     ]
    }
   ],
   "source": [
    "# part B: exploratory data analysis\n",
    "# B.2 read in SMSSpamCollection.csv as DataFrame\n",
    "df = pd.read_csv('SMSSpamCollection_copy', delimiter='\\t');\n",
    "df.columns = ['spam', 'text'] \n",
    "print(df)\n",
    "#print(len(df.columns))\n",
    "#dropping null value columns to avoid errorsk\n",
    "#df.dropna(inplace = True)\n",
    "#split value columns\n",
    "#df['text'] = df['text'].str.split(\"t\", n = 1, expand = True)\n",
    "#print(df[0])\n",
    "#print(df[1])\n",
    "#print(df)\n",
    "#df = df.reindex(columns=['text','label'])\n",
    "#print(df.shape[1])\n",
    "df['spam'] = np.where(df['spam'] == \"spam\", 1, 0) #broadcasting\n",
    "df.head()\n",
    "df.info()\n",
    "print(\"Dimension of the data: \", df.shape)"
   ]
  },
  {
   "cell_type": "code",
   "execution_count": 8,
   "metadata": {},
   "outputs": [
    {
     "name": "stdout",
     "output_type": "stream",
     "text": [
      "\n",
      "No. of Rows: 5571\n",
      "No. of Columns: 2\n"
     ]
    },
    {
     "data": {
      "text/html": [
       "<div>\n",
       "<style scoped>\n",
       "    .dataframe tbody tr th:only-of-type {\n",
       "        vertical-align: middle;\n",
       "    }\n",
       "\n",
       "    .dataframe tbody tr th {\n",
       "        vertical-align: top;\n",
       "    }\n",
       "\n",
       "    .dataframe thead th {\n",
       "        text-align: right;\n",
       "    }\n",
       "</style>\n",
       "<table border=\"1\" class=\"dataframe\">\n",
       "  <thead>\n",
       "    <tr style=\"text-align: right;\">\n",
       "      <th></th>\n",
       "      <th>text</th>\n",
       "    </tr>\n",
       "    <tr>\n",
       "      <th>spam</th>\n",
       "      <th></th>\n",
       "    </tr>\n",
       "  </thead>\n",
       "  <tbody>\n",
       "    <tr>\n",
       "      <th>0</th>\n",
       "      <td>4824</td>\n",
       "    </tr>\n",
       "    <tr>\n",
       "      <th>1</th>\n",
       "      <td>747</td>\n",
       "    </tr>\n",
       "  </tbody>\n",
       "</table>\n",
       "</div>"
      ],
      "text/plain": [
       "      text\n",
       "spam      \n",
       "0     4824\n",
       "1      747"
      ]
     },
     "execution_count": 8,
     "metadata": {},
     "output_type": "execute_result"
    }
   ],
   "source": [
    "# B.3 summerization of data in terms of mean, standard deviation, and quartiles\n",
    "no_of_rows = df.shape[0]\n",
    "no_of_columns = df.shape[1]\n",
    "\n",
    "print(\"\\nNo. of Rows: %d\" % no_of_rows)\n",
    "print(\"No. of Columns: %d\" % no_of_columns)\n",
    "df.groupby('spam').count()"
   ]
  },
  {
   "cell_type": "code",
   "execution_count": null,
   "metadata": {},
   "outputs": [],
   "source": [
    "# B.4 generate plot to display class distribution\n",
    "label_counts = df.spam.value_counts()\n",
    "plt.figure(figsize = (12,6))\n",
    "sns.barplot(label_counts.index, label_counts.values, alpha = 0.9)\n",
    "\n",
    "plt.xticks(rotation = 'vertical')\n",
    "plt.xlabel('spam', fontsize =12)\n",
    "plt.ylabel('Counts', fontsize = 12)\n",
    "plt.show()\n",
    "#Create a new column \"length\" the stores the length of the text on each row\n",
    "df['length'] = df['text'].map(lambda text: len(text))\n",
    "\n",
    "df.groupby('spam').length.describe()\n",
    "emails_subset = df[df.length < 1800]\n",
    "emails_subset.hist(column='length', by='spam', bins=50)"
   ]
  },
  {
   "cell_type": "code",
   "execution_count": null,
   "metadata": {},
   "outputs": [],
   "source": [
    "# part C: Feature Extraction\n",
    "# C.5 normalize text\n"
   ]
  },
  {
   "cell_type": "code",
   "execution_count": null,
   "metadata": {},
   "outputs": [],
   "source": [
    "# C.6 generate word clouds for both spam and ham emails (NLTK lib)\n"
   ]
  },
  {
   "cell_type": "code",
   "execution_count": null,
   "metadata": {},
   "outputs": [],
   "source": [
    "# C.7 remove stop words & convert to numerical feature vectors\n"
   ]
  },
  {
   "cell_type": "code",
   "execution_count": null,
   "metadata": {},
   "outputs": [],
   "source": [
    "# C.8 create data \n"
   ]
  },
  {
   "cell_type": "code",
   "execution_count": null,
   "metadata": {},
   "outputs": [],
   "source": [
    "# C.9 shuffle rows of data \n"
   ]
  },
  {
   "cell_type": "code",
   "execution_count": null,
   "metadata": {},
   "outputs": [],
   "source": [
    "# C.10 partition data (80% train - 20% test)\n"
   ]
  },
  {
   "cell_type": "code",
   "execution_count": null,
   "metadata": {},
   "outputs": [],
   "source": [
    "# part D: Model Evaluation\n",
    "# D.11 model selection via hyper-parameter tuning\n"
   ]
  },
  {
   "cell_type": "code",
   "execution_count": null,
   "metadata": {},
   "outputs": [],
   "source": [
    "# D.12 generate ROC and AUC (bonus)\n"
   ]
  },
  {
   "cell_type": "code",
   "execution_count": null,
   "metadata": {},
   "outputs": [],
   "source": [
    "# D.13 evaluate model on test day (Precision, Recall, F1 score, Confusion matrix, Accuracy)\n"
   ]
  },
  {
   "cell_type": "code",
   "execution_count": null,
   "metadata": {},
   "outputs": [],
   "source": [
    "# D.14 multivariate bernoulli naive bayes model (bonus)\n"
   ]
  },
  {
   "cell_type": "code",
   "execution_count": null,
   "metadata": {},
   "outputs": [],
   "source": [
    "#################      LOGISTIC REGRESSION: MULTI-CLASS CLASSIFICATION      #################\n",
    "# part A: model code\n",
    "# A.15 design softmax  regression classifier\n"
   ]
  },
  {
   "cell_type": "code",
   "execution_count": null,
   "metadata": {},
   "outputs": [],
   "source": [
    "# A.16 compute softmax score \n"
   ]
  },
  {
   "cell_type": "code",
   "execution_count": null,
   "metadata": {},
   "outputs": [],
   "source": [
    "# A.17 implement function to compute the cross-entropy loss\n"
   ]
  },
  {
   "cell_type": "code",
   "execution_count": null,
   "metadata": {},
   "outputs": [],
   "source": [
    "# A.18 implement a softmax_regression model class\n"
   ]
  },
  {
   "cell_type": "code",
   "execution_count": null,
   "metadata": {},
   "outputs": [],
   "source": [
    "# B.19 read iris data (use sklearn.datasets.load_iris)\n"
   ]
  },
  {
   "cell_type": "code",
   "execution_count": null,
   "metadata": {},
   "outputs": [],
   "source": [
    "# B.20 summerize variables in terms of mean, standard deviation, and quartiles (use technique from 2nd recitation)\n"
   ]
  },
  {
   "cell_type": "code",
   "execution_count": null,
   "metadata": {},
   "outputs": [],
   "source": [
    "# B.21 shuffle rows of data\n"
   ]
  },
  {
   "cell_type": "code",
   "execution_count": null,
   "metadata": {},
   "outputs": [],
   "source": [
    "# B.22 generate plots (seaborn)\n"
   ]
  },
  {
   "cell_type": "code",
   "execution_count": null,
   "metadata": {},
   "outputs": [],
   "source": [
    "# B.23 scale the features\n"
   ]
  },
  {
   "cell_type": "code",
   "execution_count": null,
   "metadata": {},
   "outputs": [],
   "source": [
    "# B.24 partion data\n"
   ]
  },
  {
   "cell_type": "code",
   "execution_count": null,
   "metadata": {},
   "outputs": [],
   "source": [
    "# part C: Model Evaluation\n",
    "# C.25 model selection via hyper-parameter tuning\n"
   ]
  },
  {
   "cell_type": "code",
   "execution_count": null,
   "metadata": {},
   "outputs": [],
   "source": [
    "# C.26 evaluate model on test data & report accuracy & confusion matrix\n"
   ]
  },
  {
   "cell_type": "code",
   "execution_count": null,
   "metadata": {},
   "outputs": [],
   "source": [
    "# C.27 implement early stop in \"fit\" method for softmax regression model (bonus)\n"
   ]
  },
  {
   "cell_type": "code",
   "execution_count": null,
   "metadata": {},
   "outputs": [],
   "source": [
    "# C.28 implement stochastic gradient descent logistic regression algorithm (bonus)"
   ]
  }
 ],
 "metadata": {
  "kernelspec": {
   "display_name": "Python 3",
   "language": "python",
   "name": "python3"
  },
  "language_info": {
   "codemirror_mode": {
    "name": "ipython",
    "version": 3
   },
   "file_extension": ".py",
   "mimetype": "text/x-python",
   "name": "python",
   "nbconvert_exporter": "python",
   "pygments_lexer": "ipython3",
   "version": "3.7.6"
  }
 },
 "nbformat": 4,
 "nbformat_minor": 4
}
