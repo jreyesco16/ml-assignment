{
 "cells": [
  {
   "cell_type": "code",
   "execution_count": 10,
   "metadata": {},
   "outputs": [
    {
     "name": "stdout",
     "output_type": "stream",
     "text": [
      "poly feature\n"
     ]
    },
    {
     "data": {
      "text/plain": [
       "[1, 3, 4, 1, 3, 4, 3, 9, 12, 4, 12, 16]"
      ]
     },
     "execution_count": 10,
     "metadata": {},
     "output_type": "execute_result"
    }
   ],
   "source": [
    "import pandas as np\n",
    "\n",
    "#Part A 1\n",
    "def polynomialFeatures(X, degree):\n",
    "    pa = []\n",
    "    for x in X:\n",
    "        for i in range(0, len(X)):\n",
    "            pa = pa + [x * X[i]]\n",
    "            \n",
    "    X = X + pa\n",
    "    \n",
    "    return X\n",
    "    \n",
    "X = [1, 3, 4]\n",
    "degree = 2\n",
    "\n",
    "polynomialFeatures(X,degree)\n"
   ]
  },
  {
   "cell_type": "code",
   "execution_count": 23,
   "metadata": {},
   "outputs": [
    {
     "data": {
      "text/plain": [
       "22.8"
      ]
     },
     "execution_count": 23,
     "metadata": {},
     "output_type": "execute_result"
    }
   ],
   "source": [
    "# Part A 2\n",
    "def mse(Y_true, Y_pred):\n",
    "    mse = 0\n",
    "    for i in range(0, len(Y_true)):\n",
    "        mse = mse + pow((Y_true[i][0] - Y_pred[i][0]),2)\n",
    "    mse = mse/len(Y_true)\n",
    "    return mse\n",
    "    \n",
    "Y_true = [[20], [30], [34], [53], [43]]\n",
    "Y_pred = [[23], [28], [41], [59], [39]]\n",
    "\n",
    "mse(Y_true, Y_pred)"
   ]
  },
  {
   "cell_type": "code",
   "execution_count": null,
   "metadata": {},
   "outputs": [],
   "source": [
    "# Part A 3\n",
    "def learning_curve(model, X, Y, cv, train, size=1, learning_rate=0.01, epoches=1000, tol=None, regularization=None, lambd=0.0, **kwargs):\n",
    "    print(\"learning curve\")\n",
    "    \n",
    "    \n"
   ]
  }
 ],
 "metadata": {
  "kernelspec": {
   "display_name": "Python 3",
   "language": "python",
   "name": "python3"
  },
  "language_info": {
   "codemirror_mode": {
    "name": "ipython",
    "version": 3
   },
   "file_extension": ".py",
   "mimetype": "text/x-python",
   "name": "python",
   "nbconvert_exporter": "python",
   "pygments_lexer": "ipython3",
   "version": "3.8.0"
  }
 },
 "nbformat": 4,
 "nbformat_minor": 4
}
