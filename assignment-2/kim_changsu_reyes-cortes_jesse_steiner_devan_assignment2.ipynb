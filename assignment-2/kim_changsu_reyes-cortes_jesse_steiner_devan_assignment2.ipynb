{
 "cells": [
  {
   "cell_type": "code",
   "execution_count": 3,
   "metadata": {},
   "outputs": [
    {
     "output_type": "execute_result",
     "data": {
      "text/plain": "[1, 3, 4, 1, 3, 4, 3, 9, 12, 4, 12, 16]"
     },
     "metadata": {},
     "execution_count": 3
    }
   ],
   "source": [
    "import pandas as pd\n",
    "import numpy as np\n",
    "import math\n",
    "#Part A 1 Generate polynomial and interaction features for a given degree of the polynomial\n",
    "def polynomialFeatures(X, degree):\n",
    "    pa = []\n",
    "    for x in X:\n",
    "        for i in range(0, len(X)):\n",
    "            pa = pa + [x * X[i]]\n",
    "            \n",
    "    X = X + pa\n",
    "    \n",
    "    return X\n",
    "    \n",
    "X = [1, 3, 4]\n",
    "degree = 2\n",
    "\n",
    "polynomialFeatures(X,degree)\n"
   ]
  },
  {
   "source": [
    "# Part A 2 Mean Squared Error\n",
    "def mse(Y_true, Y_pred):\n",
    "    mse = 0\n",
    "    for i in range(0, len(Y_true)):\n",
    "        mse = mse + pow((Y_true[i] - Y_pred[i]),2)\n",
    "    mse = mse/len(Y_true)\n",
    "    return mse\n",
    "    \n",
    "Y_true = [20, 30, 34, 53, 43]\n",
    "Y_pred = [23, 28, 41, 59, 39]\n",
    "\n",
    "mse(Y_true, Y_pred)"
   ],
   "cell_type": "code",
   "metadata": {},
   "execution_count": 51,
   "outputs": [
    {
     "output_type": "execute_result",
     "data": {
      "text/plain": "22.8"
     },
     "metadata": {},
     "execution_count": 51
    }
   ]
  },
  {
   "cell_type": "code",
   "execution_count": 58,
   "metadata": {
    "tags": []
   },
   "outputs": [
    {
     "output_type": "stream",
     "name": "stdout",
     "text": "[array([[2, 3, 4, 2, 4, 3]]), array([[2, 4, 5, 2, 5, 6]]), array([[3, 2, 3, 5, 8, 3]]), array([[3, 2, 4, 5, 2, 5]]), array([[2, 5, 5, 1, 8, 7]])]\n[array([[2, 3, 4, 2, 4, 3],\n       [2, 4, 5, 2, 5, 6]]), array([[3, 2, 3, 5, 8, 3],\n       [3, 2, 4, 5, 2, 5]]), array([[2, 5, 5, 1, 8, 7],\n       [2, 3, 2, 3, 5, 4]]), array([[3, 4, 2, 5, 6, 5],\n       [2, 3, 4, 5, 6, 3]]), array([[2, 3, 4, 4, 5, 4],\n       [3, 5, 4, 8, 9, 5]])]\n[array([[2, 3, 4, 2, 4, 3],\n       [2, 4, 5, 2, 5, 6],\n       [3, 2, 3, 5, 8, 3]]), array([[3, 2, 4, 5, 2, 5],\n       [2, 5, 5, 1, 8, 7],\n       [2, 3, 2, 3, 5, 4]]), array([[3, 4, 2, 5, 6, 5],\n       [2, 3, 4, 5, 6, 3],\n       [2, 3, 4, 4, 5, 4]]), array([[3, 5, 4, 8, 9, 5],\n       [9, 9, 8, 4, 5, 2],\n       [8, 4, 2, 8, 7, 3]]), array([[3, 9, 5, 4, 5, 8],\n       [3, 2, 4, 6, 5, 4],\n       [2, 3, 4, 2, 5, 5]])]\n[array([[2, 3, 4, 2, 4, 3],\n       [2, 4, 5, 2, 5, 6],\n       [3, 2, 3, 5, 8, 3],\n       [3, 2, 4, 5, 2, 5]]), array([[2, 5, 5, 1, 8, 7],\n       [2, 3, 2, 3, 5, 4],\n       [3, 4, 2, 5, 6, 5],\n       [2, 3, 4, 5, 6, 3]]), array([[2, 3, 4, 4, 5, 4],\n       [3, 5, 4, 8, 9, 5],\n       [9, 9, 8, 4, 5, 2],\n       [8, 4, 2, 8, 7, 3]]), array([[3, 9, 5, 4, 5, 8],\n       [3, 2, 4, 6, 5, 4],\n       [2, 3, 4, 2, 5, 5],\n       [9, 3, 4, 3, 4, 3]]), array([[9, 3, 2, 3, 4, 4],\n       [2, 3, 4, 2, 4, 5],\n       [2, 3, 5, 2, 5, 3],\n       [2, 4, 5, 3, 9, 4]])]\n[array([[2, 3, 4, 2, 4, 3],\n       [2, 4, 5, 2, 5, 6],\n       [3, 2, 3, 5, 8, 3],\n       [3, 2, 4, 5, 2, 5],\n       [2, 5, 5, 1, 8, 7]]), array([[2, 3, 2, 3, 5, 4],\n       [3, 4, 2, 5, 6, 5],\n       [2, 3, 4, 5, 6, 3],\n       [2, 3, 4, 4, 5, 4],\n       [3, 5, 4, 8, 9, 5]]), array([[9, 9, 8, 4, 5, 2],\n       [8, 4, 2, 8, 7, 3],\n       [3, 9, 5, 4, 5, 8],\n       [3, 2, 4, 6, 5, 4],\n       [2, 3, 4, 2, 5, 5]]), array([[9, 3, 4, 3, 4, 3],\n       [9, 3, 2, 3, 4, 4],\n       [2, 3, 4, 2, 4, 5],\n       [2, 3, 5, 2, 5, 3],\n       [2, 4, 5, 3, 9, 4]]), array([[2, 3, 4, 2, 5, 3],\n       [2, 5, 4, 5, 9, 5],\n       [2, 3, 9, 8, 4, 6],\n       [3, 5, 6, 8, 4, 5],\n       [2, 5, 8, 9, 5, 6]])]\n"
    },
    {
     "output_type": "execute_result",
     "data": {
      "text/plain": "([7.993605777301127e-15,\n  0.630694796730642,\n  1.3795662759280476,\n  1.6028467436632574,\n  1.4540137450235846],\n [])"
     },
     "metadata": {},
     "execution_count": 58
    }
   ],
   "source": [
    "# Part A 3 Compute training and validation errors\n",
    "def learning_curve(model, X, Y, cv, train_size=1, learning_rate=0.01, epoches=1000, tol=None, regularization=None, lambd=0.0, **kwargs):\n",
    "\n",
    "    train_scores = []\n",
    "\n",
    "    for i in range(1, train_size+1):\n",
    "        x = X[0:train_size*i][:]\n",
    "        y = Y[0:train_size*i]\n",
    "\n",
    "        # create model for data\n",
    "        model.fit(x,y)\n",
    "        train_scores = train_scores + [model.predict(x,y)]\n",
    "\n",
    "        #create model for data using k fold\n",
    "        cv_data = np.array_split(np.column_stack((x,y)), cv)\n",
    "        count = 0\n",
    "        for part in cv_data:\n",
    "            cv_x = pd.DataFrame()\n",
    "            cv_y = pd.DataFrame()\n",
    "            cv_x_test = pd.DataFrame()\n",
    "            cv_y_test = pd.DataFrame()\n",
    "            for j in range(0, len(cv_data)):\n",
    "                if(count == j):\n",
    "                    cv_x_test = part\n",
    "\n",
    "    return train_scores, []\n",
    "\n",
    "\n",
    "\n",
    "class Dummy:\n",
    "    def __init__(self):\n",
    "        self.X = np.array([])\n",
    "        self.Y = np.array([])\n",
    "\n",
    "    def fit(self, X, Y):\n",
    "        self.X = X\n",
    "        self.Y = Y\n",
    "    \n",
    "    def predict(self, X, Y):\n",
    "        w = []\n",
    "        if( len(X) == len(X[0])):\n",
    "            w = np.matmul(np.linalg.inv(X),np.transpose(Y))\n",
    "        else:\n",
    "            w = np.matmul(np.linalg.inv(np.matmul(np.transpose(X), X)),  np.matmul(np.transpose(X),Y))\n",
    "\n",
    "        y_hat = np.matmul(X, w)\n",
    "\n",
    "        e = math.sqrt(mse(Y, y_hat))\n",
    "\n",
    "        return e\n",
    "\n",
    "\n",
    "   \n",
    "# testing data\n",
    "X = np.array([[2,3,4,2,4],[2,4,5,2,5],[3,2,3,5,8],[3,2,4,5,2],[2,5,5,1,8],[2,3,2,3,5],[3,4,2,5,6],[2,3,4,5,6],[2,3,4,4,5],[3,5,4,8,9],[9,9,8,4,5],[8,4,2,8,7],\n",
    "              [3,9,5,4,5],[3,2,4,6,5],[2,3,4,2,5],[9,3,4,3,4],[9,3,2,3,4],[2,3,4,2,4],[2,3,5,2,5],[2,4,5,3,9],[2,3,4,2,5],[2,5,4,5,9],[2,3,9,8,4],[3,5,6,8,4],[2,5,8,9,5]])\n",
    "\n",
    "Y = np.array([3,6,3,5,7,4,5,3,4,5,2,3,8,4,5,3,4,5,3,4,3,5,6,5,6]) # training labels\n",
    "\n",
    "model = Dummy()\n",
    "\n",
    "learning_curve(model, X, Y, 5, train_size = 5)"
   ]
  },
  {
   "cell_type": "code",
   "execution_count": null,
   "metadata": {},
   "outputs": [],
   "source": []
  }
 ],
 "metadata": {
  "kernelspec": {
   "display_name": "Python 3",
   "language": "python",
   "name": "python3"
  },
  "language_info": {
   "codemirror_mode": {
    "name": "ipython",
    "version": 3
   },
   "file_extension": ".py",
   "mimetype": "text/x-python",
   "name": "python",
   "nbconvert_exporter": "python",
   "pygments_lexer": "ipython3",
   "version": "3.8.0-final"
  }
 },
 "nbformat": 4,
 "nbformat_minor": 4
}