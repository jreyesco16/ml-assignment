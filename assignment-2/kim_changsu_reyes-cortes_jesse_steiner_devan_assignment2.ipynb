{
 "cells": [
  {
   "cell_type": "code",
   "execution_count": 71,
   "metadata": {
    "tags": []
   },
   "outputs": [
    {
     "data": {
      "text/plain": [
       "[1, 3, 4]"
      ]
     },
     "execution_count": 71,
     "metadata": {},
     "output_type": "execute_result"
    }
   ],
   "source": [
    "import pandas as pd\n",
    "import numpy as np\n",
    "import math\n",
    "import copy\n",
    "import matplotlib.pyplot as plt\n",
    "\n",
    "#Part A 1 Generate polynomial and interaction features for a given degree of the polynomial\n",
    "def polynomialFeatures(X, degree):\n",
    "    pa = []\n",
    "    count = 0\n",
    "    point = 0\n",
    "    for i in range(1, degree+1):\n",
    "        count = 0\n",
    "        for j in range(count, len(X)):\n",
    "            count = count + 1\n",
    "    \n",
    "    return X\n",
    "    \n",
    "X = [1, 3, 4]\n",
    "degree = 5\n",
    "\n",
    "polynomialFeatures(X,degree)\n"
   ]
  },
  {
   "cell_type": "code",
   "execution_count": 72,
   "metadata": {},
   "outputs": [
    {
     "data": {
      "text/plain": [
       "22.8"
      ]
     },
     "execution_count": 72,
     "metadata": {},
     "output_type": "execute_result"
    }
   ],
   "source": [
    "# Part A 2 Mean Squared Error\n",
    "def mse(Y_true, Y_pred):\n",
    "    mse = 0\n",
    "    for i in range(0, len(Y_true)):\n",
    "        mse = mse + pow((Y_true[i] - Y_pred[i]),2)\n",
    "    mse = mse/len(Y_true)\n",
    "    return mse\n",
    "    \n",
    "Y_true = [20, 30, 34, 53, 43]\n",
    "Y_pred = [23, 28, 41, 59, 39]\n",
    "\n",
    "mse(Y_true, Y_pred)"
   ]
  },
  {
   "cell_type": "code",
   "execution_count": 73,
   "metadata": {
    "tags": []
   },
   "outputs": [
    {
     "name": "stdout",
     "output_type": "stream",
     "text": [
      "Training Scores:  [1.8630587706705477e-15, 0.6566468105638373, 1.3900533388507215, 1.6061332211223076, 1.4577669900813204]\n",
      "Validation Scores:  [4.550390625, 1.7042103533962725, 2.152668214896568, 2.0939137189702666, 1.764287349091105]\n"
     ]
    }
   ],
   "source": [
    "# Part A 3 Compute training and validation errors\n",
    "# seperates array/matrix into k folds\n",
    "def sHelper(x, k):\n",
    "    cv_data = []\n",
    "    mlt_fac = math.ceil(len(x)/k)\n",
    "    cv_data = []\n",
    "    cv_tmp = []\n",
    "    counter = 0\n",
    "    start = False\n",
    "    for i in range(0, k):\n",
    "        cv_tmp = []\n",
    "        for j in range(0, len(x)):\n",
    "            if( j == mlt_fac*i):\n",
    "                start = True\n",
    "            if(start==True):\n",
    "                if(type(x[j])==int):\n",
    "                    cv_tmp = cv_tmp + [x[j]]\n",
    "                else:\n",
    "                    cv_tmp = cv_tmp + x[j]\n",
    "                count = counter + 1\n",
    "            if(counter == mlt_fac):\n",
    "                count = 0\n",
    "                start = False\n",
    "    return x\n",
    "\n",
    "\n",
    "# Object used to hold data for learning curve\n",
    "class Dummy:\n",
    "    def __init__(self):\n",
    "        self.X = np.array([])\n",
    "        self.Y = np.array([])\n",
    "        self.w = np.array([])\n",
    "\n",
    "    def fit(self, X, Y):\n",
    "        self.X = X\n",
    "        self.Y = Y\n",
    "        if( len(X) == len(X[0])):\n",
    "            self.w = np.matmul(np.linalg.inv(self.X),np.transpose(self.Y))\n",
    "        else:\n",
    "            self.w = np.matmul(np.linalg.inv(np.matmul(np.transpose(self.X), self.X)),  np.matmul(np.transpose(self.X),self.Y))\n",
    "    def predict(self, X):\n",
    "        y_hat = np.matmul(X, self.w)\n",
    "        return y_hat\n",
    "\n",
    "# Computes Training Scores & Validation Scores\n",
    "def learning_curve(model, X, Y, cv, train_size=1, learning_rate=0.01, epoches=1000, tol=None, regularization=None, lambd=0.0, **kwargs):\n",
    "\n",
    "    train_scores = []\n",
    "    avg_cv = []\n",
    "\n",
    "    for i in range(1, train_size+1):\n",
    "        x = X[0:train_size*i][:]\n",
    "        y = Y[0:train_size*i]\n",
    "\n",
    "        # create model for data\n",
    "        model.fit(x,y)\n",
    "        train_scores = train_scores + [math.sqrt(mse(y,model.predict(x)))]\n",
    "\n",
    "        x = x.tolist()\n",
    "        y = y.tolist()\n",
    "        x = sHelper(x,cv)\n",
    "        y = sHelper(y,cv)\n",
    "        \n",
    "        avg_cv_tmp = []\n",
    "        for j in range(0, cv):\n",
    "            cv_x = copy.copy(x)\n",
    "            cv_y = copy.copy(y)\n",
    "            cv_x_test = cv_x.pop(j)\n",
    "            cv_y_test = [cv_y.pop(j)]\n",
    "\n",
    "            model.fit(cv_x, cv_y)\n",
    "            cv_y_hat = [model.predict(cv_x_test)]\n",
    "\n",
    "            avg_cv_tmp = avg_cv_tmp + [math.sqrt(mse(cv_y_test,cv_y_hat))]\n",
    "        \n",
    "        avg_cv = avg_cv + [np.mean(avg_cv_tmp)]\n",
    "\n",
    "\n",
    "    return train_scores, avg_cv\n",
    "\n",
    "\n",
    "   \n",
    "# training data\n",
    "X = np.array([[2,3,5,2,4],[2,4,5,2,5],[3,2,3,5,8],[3,2,4,5,2],[2,5,5,1,8],[2,3,2,3,5],[3,4,2,5,6],[2,3,4,5,6],[2,3,4,4,5],[3,5,4,8,9],[9,9,8,4,5],[8,4,2,8,7],\n",
    "              [3,9,5,4,5],[3,2,4,6,5],[2,3,4,2,5],[9,3,4,3,4],[9,3,2,3,4],[2,3,4,2,4],[2,3,5,2,5],[2,4,5,3,9],[2,3,4,2,5],[2,5,4,5,9],[2,3,9,8,4],[3,5,6,8,4],\n",
    "              [2,5,8,9,5]])\n",
    "# training labels\n",
    "Y = np.array([3,6,3,5,7,4,5,3,4,5,2,3,8,4,5,3,4,5,3,4,3,5,6,5,6]) \n",
    "\n",
    "model = Dummy()\n",
    "\n",
    "train_scores, val_scores = learning_curve(model, X, Y, 5, train_size = 5)\n",
    "\n",
    "print(\"Training Scores: \", train_scores)\n",
    "print(\"Validation Scores: \", val_scores)"
   ]
  },
  {
   "cell_type": "code",
   "execution_count": 84,
   "metadata": {
    "tags": []
   },
   "outputs": [
    {
     "data": {
      "image/png": "[encoded data removed]",
      "text/plain": [
       "<Figure size 432x288 with 1 Axes>"
      ]
     },
     "metadata": {
      "needs_background": "light"
     },
     "output_type": "display_data"
    }
   ],
   "source": [
    "# Part A 4 Compute training and validation errors for various polynomial degrees\n",
    "\n",
    "\n",
    "\n",
    "def plot_polynomial_model_complexity(model, X, Y, cv, maxPolynomialDegree, learning_rate=0.01, epoches=1000, tol=None, regularizer=None, lambd=0.0, **kwargs):\n",
    "    train_scores = []\n",
    "    val_scores = []\n",
    "    x_axis = []\n",
    "\n",
    "    for i in range(1, maxPolynomialDegree+1):\n",
    "        poly_x = []\n",
    "        poly_y = []\n",
    "        for j in range(0, len(X)):\n",
    "            poly_x = poly_x + [polynomialFeatures(X[j],i)]\n",
    "        poly_y = polynomialFeatures(Y,i)\n",
    "        tmp_train_scores, tmp_val_scores = learning_curve(model, np.array(poly_x), np.array(poly_y), cv, train_size = 5)\n",
    "        train_score = np.mean(tmp_train_scores)\n",
    "        val_score = np.mean(tmp_val_scores)\n",
    "        train_scores = train_scores + [train_score]\n",
    "        val_scores = val_scores + [val_score]\n",
    "        x_axis.append(i)\n",
    "\n",
    "    #plot data\n",
    "    plt.xlabel('Degree')\n",
    "    plt.ylabel('Scores')\n",
    "    plt.plot(x_axis, train_scores, label=\"Avg Training Score\")\n",
    "    plt.plot(x_axis, val_scores, label=\"Avg Validation Scores\")\n",
    "    plt.title(\"Polynomial Model Complexity\")\n",
    "    plt.legend()\n",
    "    plt.show()\n",
    "    \n",
    "    \n",
    "\n",
    "model = Dummy()\n",
    "    \n",
    "plot_polynomial_model_complexity(model, X, Y, 5, 5)"
   ]
  },
  {
   "cell_type": "code",
   "execution_count": 86,
   "metadata": {
    "tags": []
   },
   "outputs": [],
   "source": [
    "# part A 5 Linear Regression Model \n",
    "class Linear_Regression:\n",
    "    def __init__(self):\n",
    "        self.X = X\n",
    "        self.Y = Y\n"
   ]
  },
  {
   "cell_type": "code",
   "execution_count": null,
   "metadata": {},
   "outputs": [],
   "source": []
  }
 ],
 "metadata": {
  "kernelspec": {
   "display_name": "Python 3",
   "language": "python",
   "name": "python3"
  },
  "language_info": {
   "codemirror_mode": {
    "name": "ipython",
    "version": 3
   },
   "file_extension": ".py",
   "mimetype": "text/x-python",
   "name": "python",
   "nbconvert_exporter": "python",
   "pygments_lexer": "ipython3",
   "version": "3.8.0"
  }
 },
 "nbformat": 4,
 "nbformat_minor": 4
}
