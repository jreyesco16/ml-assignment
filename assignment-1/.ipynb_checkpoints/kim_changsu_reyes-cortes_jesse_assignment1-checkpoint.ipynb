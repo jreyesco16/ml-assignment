{
 "cells": [
  {
   "cell_type": "code",
   "execution_count": 77,
   "metadata": {},
   "outputs": [
    {
     "name": "stdout",
     "output_type": "stream",
     "text": [
      "137.73888339898795\n"
     ]
    }
   ],
   "source": [
    "import numpy as np\n",
    "import pandas as pd\n",
    "import matplotlib.pyplot as plt\n",
    "import math\n",
    "\n",
    "A1 = [1,2,34,4,5,5,6,6,7,5,4,5,6,7,8,5,4]\n",
    "A2 = [1,21,2,2,3,1,3,1,31,3,131,31,13,13,1,4,1]    \n",
    "    \n",
    "    \n",
    "def euclidean_distance(x,y):\n",
    "    distance = 0\n",
    "    for i in range(0, len(x)):\n",
    "        distance = distance + pow(abs(x[i] - y[i]), 2)\n",
    "        \n",
    "    distance = math.sqrt(distance)\n",
    "    \n",
    "    \n",
    "    return distance\n",
    "    \n",
    "print(euclidean_distance(A1,A2))\n"
   ]
  },
  {
   "cell_type": "code",
   "execution_count": 79,
   "metadata": {},
   "outputs": [
    {
     "name": "stdout",
     "output_type": "stream",
     "text": [
      "270\n"
     ]
    }
   ],
   "source": [
    "def manhattan_distance(x, y):\n",
    "    distance = 0\n",
    "    for i in range(0, len(x)):\n",
    "        distance = distance + abs(x[i] - y[i])\n",
    "    return distance\n",
    "\n",
    "print(manhattan_distance(A1,A2))"
   ]
  },
  {
   "cell_type": "code",
   "execution_count": 80,
   "metadata": {},
   "outputs": [
    {
     "data": {
      "text/plain": [
       "<matplotlib.collections.PathCollection at 0x7fd1d8950090>"
      ]
     },
     "execution_count": 80,
     "metadata": {},
     "output_type": "execute_result"
    },
    {
     "data": {
      "image/png": "[encoded data removed]",
      "text/plain": [
       "<Figure size 432x288 with 1 Axes>"
      ]
     },
     "metadata": {
      "needs_background": "light"
     },
     "output_type": "display_data"
    }
   ],
   "source": []
  },
  {
   "cell_type": "code",
   "execution_count": null,
   "metadata": {},
   "outputs": [],
   "source": []
  }
 ],
 "metadata": {
  "kernelspec": {
   "display_name": "Python 3",
   "language": "python",
   "name": "python3"
  },
  "language_info": {
   "codemirror_mode": {
    "name": "ipython",
    "version": 3
   },
   "file_extension": ".py",
   "mimetype": "text/x-python",
   "name": "python",
   "nbconvert_exporter": "python",
   "pygments_lexer": "ipython3",
   "version": "3.7.9"
  }
 },
 "nbformat": 4,
 "nbformat_minor": 4
}
