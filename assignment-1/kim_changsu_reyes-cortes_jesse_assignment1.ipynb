{
 "cells": [
  {
   "cell_type": "code",
   "execution_count": 196,
   "metadata": {},
   "outputs": [
    {
     "name": "stdout",
     "output_type": "stream",
     "text": [
      "Euclidean Distance:  2.147673159491453\n"
     ]
    }
   ],
   "source": [
    "import numpy as np\n",
    "import pandas as pd\n",
    "import matplotlib.pyplot as plt\n",
    "import math\n",
    "\n",
    "\n",
    "A1=[1,1,1,1,0,0,1,0,1,1,0,0,0,1,0,1,0,1,0,1,1, 0, 0,1,0,1,1,0,1,1,0] # sick patients\n",
    "A2=[.70,.80,.65,.50,.30,.40,.60,.20,.70,.75,.40,.30,.50,.75,.45,.60,.30,.40,.50,.60,.90,.20,.15,.20,.70,.50,.60,.25,.85,.95,.15] #propability of being sick\n",
    "    \n",
    "def euclidean_distance(x,y):\n",
    "    distance = 0\n",
    "    for i in range(0, len(x)):\n",
    "        distance = distance + pow(abs(x[i] - y[i]), 2)\n",
    "        \n",
    "    distance = math.sqrt(distance)\n",
    "    \n",
    "    \n",
    "    return distance\n",
    "    \n",
    "print(\"Euclidean Distance: \",euclidean_distance(A1,A2))\n"
   ]
  },
  {
   "cell_type": "code",
   "execution_count": 169,
   "metadata": {},
   "outputs": [
    {
     "name": "stdout",
     "output_type": "stream",
     "text": [
      "Manhattan Distance:  10.750000000000002\n"
     ]
    }
   ],
   "source": [
    "def manhattan_distance(x, y):\n",
    "    distance = 0\n",
    "    for i in range(0, len(x)):\n",
    "        distance = distance + abs(x[i] - y[i])\n",
    "    return distance\n",
    "\n",
    "print(\"Manhattan Distance: \",manhattan_distance(A1,A2))"
   ]
  },
  {
   "cell_type": "code",
   "execution_count": 119,
   "metadata": {},
   "outputs": [
    {
     "name": "stdout",
     "output_type": "stream",
     "text": [
      "Accuracy and error:  (0.058823529411764705, 0.9411764705882353)\n"
     ]
    }
   ],
   "source": [
    "def accuracy_generalization_error(x,y):\n",
    "    count = 0\n",
    "    error = 0\n",
    "    for i in range(0, len(x)):\n",
    "        if(x[i]==1 and .5 < y[i]):\n",
    "            count = count + 1\n",
    "    \n",
    "    return count/len(x), 1-(count/len(x))\n",
    "\n",
    "print(\"Accuracy and error: \",accuracy_generalization_error(A1, A2))"
   ]
  },
  {
   "cell_type": "code",
   "execution_count": 188,
   "metadata": {},
   "outputs": [
    {
     "name": "stdout",
     "output_type": "stream",
     "text": [
      "Precision is  0.9285714285714286\n"
     ]
    }
   ],
   "source": [
    "def precision(x,y):\n",
    "    truePositive = 0\n",
    "    falsePositive = 0\n",
    "    for i in range(0, len(x)):\n",
    "        if(x[i] == 1 and .5 < y[i]):\n",
    "            truePositive = truePositive + 1\n",
    "        elif(x[i] == 0 and .5 <y[i]):\n",
    "            falsePositive = falsePositive + 1       \n",
    "    return truePositive/(truePositive+falsePositive)\n",
    "\n",
    "print(\"Precision is \", precision(A1, A2))"
   ]
  },
  {
   "cell_type": "code",
   "execution_count": 191,
   "metadata": {},
   "outputs": [
    {
     "name": "stdout",
     "output_type": "stream",
     "text": [
      "Recall:  0.5\n"
     ]
    }
   ],
   "source": [
    "def recall(x,y):\n",
    "    truePositive = 0\n",
    "    falseNegative = 0\n",
    "    for i in range(0, len(x)):\n",
    "        if(x[i] == 1 and .5 < y[i]):\n",
    "            truePositive = truePositive + 1\n",
    "        elif(x[i] == 0 and y[i] <= .5):\n",
    "            falseNegative = falseNegative + 1         \n",
    "    return truePositive/(truePositive+falseNegative)\n",
    "\n",
    "print(\"Recall: \", recall(A1, A2))"
   ]
  },
  {
   "cell_type": "code",
   "execution_count": 192,
   "metadata": {},
   "outputs": [
    {
     "name": "stdout",
     "output_type": "stream",
     "text": [
      "F1 Score is  0.65\n"
     ]
    }
   ],
   "source": [
    "print(\"F1 Score is \", (2*precision(A1,A2)*recall(A1,A2))/(precision(A1,A2)+recall(A1,A2)))"
   ]
  },
  {
   "cell_type": "code",
   "execution_count": 44,
   "metadata": {},
   "outputs": [
    {
     "name": "stdout",
     "output_type": "stream",
     "text": [
      "n=31\t Predicted: NO \t Predicted YES:\n",
      "\n",
      "Actual:  \n",
      " NO \t    13 \t\t   1\n",
      "\n",
      "Actual:\n",
      " YES \t    4 \t\t   13\n"
     ]
    }
   ],
   "source": [
    "def confusion_matrix(x,y):\n",
    "    TN = 0\n",
    "    FP = 0\n",
    "    FN = 0\n",
    "    TP = 0\n",
    "    for i in range(0, len(x)):\n",
    "        if(x[i]==0 and y[i] <= .5):\n",
    "            TN = TN + 1\n",
    "        elif(x[i]==0 and .5 < y[i]):\n",
    "            FP = FP + 1\n",
    "        elif(x[i]==1 and y[i] <= .5):\n",
    "            FN = FN + 1\n",
    "        elif(x[i]==1 and .5 < y[i]):\n",
    "            TP = TP + 1\n",
    "    print(\"n=%d\\t Predicted: NO \\t Predicted YES:\" % len(x))\n",
    "    print(\"\\nActual:  \")\n",
    "    print(\" NO \\t    %d \\t\\t   %d\" % (TN, FP))\n",
    "    print(\"\\nActual:\")\n",
    "    print(\" YES \\t    %d \\t\\t   %d\" % (FN, TP))\n",
    "    \n",
    "confusion_matrix(A1, A2)"
   ]
  },
  {
   "cell_type": "code",
   "execution_count": 205,
   "metadata": {},
   "outputs": [
    {
     "data": {
      "image/png": "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\n",
      "text/plain": [
       "<Figure size 432x288 with 1 Axes>"
      ]
     },
     "metadata": {
      "needs_background": "light"
     },
     "output_type": "display_data"
    }
   ],
   "source": [
    "def ROC_curve(x,y):\n",
    "    test=[0,.05,.10,.15,.20,.25,.30,.35,.40,.45,.50,.55,.60,.65,.70,.75,.80,.85,.90,.95,1]\n",
    "    TPR=[]\n",
    "    FPR = []\n",
    "    for i in range(0,len(test)):\n",
    "        TN = 0\n",
    "        FP = 0\n",
    "        FN = 0\n",
    "        TP = 0\n",
    "        for j in range(0, len(x)):\n",
    "            if(x[j]==0 and y[j] <= test[i]):\n",
    "                TN = TN + 1\n",
    "            elif(x[j]==0 and test[i] < y[j]):\n",
    "                FP = FP + 1\n",
    "            elif(x[j]==1 and y[j]<=test[i]):\n",
    "                FN = FN + 1\n",
    "            elif(x[j]==1 and test[i] < y[j]):\n",
    "                TP = TP + 1\n",
    "\n",
    "        TPR.append(TP/(TP + FN))\n",
    "        FPR.append(FP/(FP + TN))\n",
    "    \n",
    "    plt.title('Receiver Operating Characteristic')\n",
    "    plt.plot(FPR,TPR, label=\"ROC Curve\", color='orange')\n",
    "    plt.legend(loc = 'lower right')\n",
    "    plt.plot([0, 1], [0, 1],'b--')\n",
    "    plt.xlim([0, 1])\n",
    "    plt.ylim([0, 1])\n",
    "    plt.ylabel('True Positive Rate')\n",
    "    plt.xlabel('False Positive Rate')\n",
    "    plt.legend()\n",
    "    plt.show()\n",
    "\n",
    "    \n",
    "ROC_curve(A1, A2)"
   ]
  },
  {
   "cell_type": "code",
   "execution_count": 206,
   "metadata": {},
   "outputs": [
    {
     "name": "stdout",
     "output_type": "stream",
     "text": [
      "AUC:  0.9117647058823529\n"
     ]
    }
   ],
   "source": [
    "def AUC(x,y):\n",
    "    test=[0,.05,.10,.15,.20,.25,.30,.35,.40,.45,.50,.55,.60,.65,.70,.75,.80,.85,.90,.95,1]\n",
    "    TPR = []\n",
    "    FPR = []\n",
    "    auc = 0\n",
    "    for i in range(0,len(test)):\n",
    "        TN = 0\n",
    "        FP = 0\n",
    "        FN = 0\n",
    "        TP = 0\n",
    "        for j in range(0, len(x)):\n",
    "            if(x[j]==0 and y[j] <= test[i]):\n",
    "                TN = TN + 1\n",
    "            elif(x[j]==0 and test[i] < y[j]):\n",
    "                FP = FP + 1\n",
    "            elif(x[j]==1 and y[j]<=test[i]):\n",
    "                FN = FN + 1\n",
    "            elif(x[j]==1 and test[i] < y[j]):\n",
    "                TP = TP + 1\n",
    "\n",
    "        TPR.append(TP/(TP + FN))\n",
    "        FPR.append(FP/(FP + TN))\n",
    "        \n",
    "    TPR.reverse()\n",
    "    FPR.reverse()\n",
    "        \n",
    "    for i in range(1, len(TPR)):\n",
    "        auc =  auc + TPR[i]*(FPR[i]-FPR[i-1])\n",
    "    \n",
    "    return auc\n",
    "        \n",
    "print(\"AUC: \",AUC(A1,A2))\n",
    "        \n",
    "    "
   ]
  },
  {
   "cell_type": "code",
   "execution_count": 120,
   "metadata": {},
   "outputs": [
    {
     "name": "stdout",
     "output_type": "stream",
     "text": [
      "<class 'pandas.core.frame.DataFrame'>\n",
      "RangeIndex: 4898 entries, 0 to 4897\n",
      "Data columns (total 12 columns):\n",
      " #   Column                Non-Null Count  Dtype  \n",
      "---  ------                --------------  -----  \n",
      " 0   fixed acidity         4898 non-null   float64\n",
      " 1   volatile acidity      4898 non-null   float64\n",
      " 2   citric acid           4898 non-null   float64\n",
      " 3   residual sugar        4898 non-null   float64\n",
      " 4   chlorides             4898 non-null   float64\n",
      " 5   free sulfur dioxide   4898 non-null   float64\n",
      " 6   total sulfur dioxide  4898 non-null   float64\n",
      " 7   density               4898 non-null   float64\n",
      " 8   pH                    4898 non-null   float64\n",
      " 9   sulphates             4898 non-null   float64\n",
      " 10  alcohol               4898 non-null   float64\n",
      " 11  quality               4898 non-null   int64  \n",
      "dtypes: float64(11), int64(1)\n",
      "memory usage: 459.3 KB\n"
     ]
    },
    {
       "cell_type": "code",
       "execution_count": null,
       "metadata": {},
       "outputs": [],
   "source": [
    "weights_bank = { 'uniform' : 'hello', 'euclidian' : 'bye', 'manhattan' : 'good morning'}\n",
    "\n",
    "def fit(self, X, Y, n_neighbors, weights, kwargs):\n",
    "    x = np.array(X)\n",
    "    y = np.array(Y)\n",
    "    n_neighbors = n_neighbors\n",
    "    weights = \n",
    "    \n",
    "    \n",
    "def predict(self, X):\n",
    "    \n",
    "    \n",
    "    \n",
    "def __init__(self):\n",
    "    \n",
    "    \n",
    "    \n",
    "def KNN_Classifier():\n",
    "    \n",
    "    "
   ]
  },
  {
   "cell_type": "code",
   "execution_count": null,
   "metadata": {},
   "outputs": [],
   "source": [
    "data.loc[data['quality'] > 5, 'quality'] = 1  #Good\n",
    "data.loc[data['quality'] <= 5, 'quality'] = 0 #bad"
   ]
  }
 ],
 "metadata": {
  "kernelspec": {
   "display_name": "Python 3",
   "language": "python",
   "name": "python3"
  },
  "language_info": {
   "codemirror_mode": {
    "name": "ipython",
    "version": 3
   },
   "file_extension": ".py",
   "mimetype": "text/x-python",
   "name": "python",
   "nbconvert_exporter": "python",
   "pygments_lexer": "ipython3",
   "version": "3.7.9"
  }
 },
 "nbformat": 4,
 "nbformat_minor": 4
}
