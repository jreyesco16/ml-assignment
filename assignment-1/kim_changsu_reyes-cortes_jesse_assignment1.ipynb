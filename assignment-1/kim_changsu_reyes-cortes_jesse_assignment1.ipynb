{
 "cells": [
  {
   "cell_type": "code",
   "execution_count": 85,
   "metadata": {},
   "outputs": [],
   "source": [
    "import numpy as np\n",
    "import pandas as pd\n",
    "import matplotlib.pyplot as plt\n",
    "import math\n",
    "from sklearn.neighbors import KNeighborsClassifier\n",
    "\n",
    "A1 = [1,2,34,4,5,5,6,6,7,5,4,5,6,7,8,5,4]\n",
    "A2 = [1,21,2,2,3,1,3,1,31,3,131,31,13,13,1,4,1]    \n",
    "    \n",
    "    \n",
    "def euclidean_distance(x,y):\n",
    "    distance = 0\n",
    "    for i in range(0, len(x)):\n",
    "        distance = distance + pow(abs(x[i] - y[i]), 2)\n",
    "        \n",
    "    distance = math.sqrt(distance)\n",
    "    \n",
    "    \n",
    "    return distance\n",
    "    \n",
    "print(euclidean_distance(A1,A2))\n"
   ]
  },
  {
   "cell_type": "code",
   "execution_count": 79,
   "metadata": {},
   "outputs": [
    {
     "name": "stdout",
     "output_type": "stream",
     "text": [
      "270\n"
     ]
    }
   ],
   "source": [
    "def manhattan_distance(x, y):\n",
    "    distance = 0\n",
    "    for i in range(0, len(x)):\n",
    "        distance = distance + abs(x[i] - y[i])\n",
    "    return distance\n",
    "\n",
    "print(manhattan_distance(A1,A2))"
   ]
  },
  {
   "cell_type": "code",
   "execution_count": 3,
   "metadata": {},
   "outputs": [
    {
     "name": "stdout",
     "output_type": "stream",
     "text": [
      "Accuracy and error:  (0.7407407407407407, 0.2592592592592593)\n"
     ]
    }
   ],
   "source": [
    "Acc1 = [1,0,0,0,0,0,0,0,0,1,0,1,1,0,1,0,1,0,1,0,1,0,1,0,1,0,1]\n",
    "Acc2 = [1,0,1,1,1,0,0,0,0,0,0,1,1,0,1,1,1,0,1,0,1,0,0,1,1,0,1]\n",
    "\n",
    "\n",
    "def accuracy_generalization_error(x,y):\n",
    "    count = 0\n",
    "    error = 0\n",
    "    for i in range(0, len(x)):\n",
    "        if(x[i] == y[i]):\n",
    "            count = count + 1\n",
    "    \n",
    "    return count/len(x), 1-(count/len(x))\n",
    "\n",
    "print(\"Accuracy and error: \",accuracy_generalization_error(Acc1, Acc2))"
   ]
  },
  {
   "cell_type": "code",
   "execution_count": 104,
   "metadata": {},
   "outputs": [
    {
     "name": "stdout",
     "output_type": "stream",
     "text": [
      "Precision is  0.8181818181818182\n"
     ]
    }
   ],
   "source": [
    "def precision(x,y):\n",
    "    truePositive = 0\n",
    "    falsePositive = 0\n",
    "    for i in range(0, len(x)):\n",
    "        if(x[i] == 1 and y[i] == 1):\n",
    "            truePositive = truePositive + 1\n",
    "        elif(x[i] == 1 and y[i] == 0):\n",
    "            falsePositive = falsePositive + 1\n",
    "            \n",
    "       # print(\"truePoisitive: \", truePositive)\n",
    "       # print(\"falsePositive: \", falsePositive)\n",
    "    return truePositive/(truePositive+falsePositive)\n",
    "\n",
    "print(\"Precision is \", precision(Acc1, Acc2))"
   ]
  },
  {
   "cell_type": "code",
   "execution_count": 105,
   "metadata": {},
   "outputs": [
    {
     "name": "stdout",
     "output_type": "stream",
     "text": [
      "Recall:  0.45\n"
     ]
    }
   ],
   "source": [
    "def recall(x,y):\n",
    "    truePositive = 0\n",
    "    falseNegative = 0\n",
    "    for i in range(0, len(x)):\n",
    "        if(x[i] == 1 and y[i] == 1):\n",
    "            truePositive = truePositive + 1\n",
    "        elif(x[i] == 0 and y[i] == 0):\n",
    "            falseNegative = falseNegative + 1\n",
    "    return truePositive/(truePositive+falseNegative)\n",
    "print(\"Recall: \", recall(Acc1, Acc2))"
   ]
  },
  {
   "cell_type": "code",
   "execution_count": 106,
   "metadata": {},
   "outputs": [
    {
     "name": "stdout",
     "output_type": "stream",
     "text": [
      "F1 Score is  0.5806451612903226\n"
     ]
    }
   ],
   "source": [
    "#F1 score(F-Measure = (2 * Precision * Recall) / (Precision + Recall))\n",
    "print(\"F1 Score is \", (2*precision(Acc1,Acc2)*recall(Acc1,Acc2))/(precision(Acc1,Acc2)+recall(Acc1,Acc2)))"
   ]
  },
  {
   "cell_type": "code",
   "execution_count": 44,
   "metadata": {},
   "outputs": [
    {
     "name": "stdout",
     "output_type": "stream",
     "text": [
      "n=27\t Predicted: NO \t Predicted YES:\n",
      "\n",
      "Actual:  \n",
      " NO \t    11 \t\t   5\n",
      "\n",
      "Actual:\n",
      " YES \t    2 \t\t   9\n"
     ]
    }
   ],
   "source": [
    "def confusion_matrix(x,y):\n",
    "    TN = 0\n",
    "    FP = 0\n",
    "    FN = 0\n",
    "    TP = 0\n",
    "    for i in range(0, len(x)):\n",
    "        if(x[i]==0 and y[i]==0):\n",
    "            TN = TN + 1\n",
    "        elif(x[i]==0 and y[i]==1):\n",
    "            FP = FP + 1\n",
    "        elif(x[i]==1 and y[i]==0):\n",
    "            FN = FN + 1\n",
    "        elif(x[i]==1 and y[i]==1):\n",
    "            TP = TP + 1\n",
    "    print(\"n=%d\\t Predicted: NO \\t Predicted YES:\" % len(x))\n",
    "    print(\"\\nActual:  \")\n",
    "    print(\" NO \\t    %d \\t\\t   %d\" % (TN, FP))\n",
    "    print(\"\\nActual:\")\n",
    "    print(\" YES \\t    %d \\t\\t   %d\" % (FN, TP))\n",
    "    \n",
    "confusion_matrix(Acc1, Acc2)"
   ]
  },
  {
   "cell_type": "code",
   "execution_count": 51,
   "metadata": {},
   "outputs": [],
   "source": [
    "def ROC_curve(x,y):\n",
    "    TN = 0\n",
    "    FP = 0\n",
    "    FN = 0\n",
    "    TP = 0\n",
    "    for i in range(0, len(x)):\n",
    "        if(x[i]==0 and y[i]==0):\n",
    "            TN = TN + 1\n",
    "        elif(x[i]==0 and y[i]==1):\n",
    "            FP = FP + 1\n",
    "        elif(x[i]==1 and y[i]==0):\n",
    "            FN = FN + 1\n",
    "        elif(x[i]==1 and y[i]==1):\n",
    "            TP = TP + 1\n",
    "        \n",
    "    TPR = TP/(TP + FN)\n",
    "    FPT = TN/(FP + TN)\n",
    "\n",
    "ROC_curve(Acc1,Acc2)"
   ]
  },
  {
   "cell_type": "code",
   "execution_count": null,
   "metadata": {},
   "outputs": [],
   "source": []
  },
  {
   "cell_type": "code",
   "execution_count": null,
   "metadata": {},
   "outputs": [],
   "source": []
  }
 ],
 "metadata": {
  "kernelspec": {
   "display_name": "Python 3",
   "language": "python",
   "name": "python3"
  },
  "language_info": {
   "codemirror_mode": {
    "name": "ipython",
    "version": 3
   },
   "file_extension": ".py",
   "mimetype": "text/x-python",
   "name": "python",
   "nbconvert_exporter": "python",
   "pygments_lexer": "ipython3",
   "version": "3.8.0"
  }
 },
 "nbformat": 4,
 "nbformat_minor": 4
}
