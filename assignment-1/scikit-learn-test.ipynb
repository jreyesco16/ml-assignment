{
 "cells": [
  {
   "cell_type": "code",
   "execution_count": 84,
   "metadata": {},
   "outputs": [],
   "source": [
    "from sklearn.neighbors import KNeighborsClassifier\n",
    "from sklearn.model_selection import train_test_split\n",
    "from sklearn import metrics\n",
    "from sklearn import svm\n",
    "from sklearn.model_selection import cross_val_score\n",
    "import numpy as np\n",
    "import pandas as pd\n",
    "import math\n",
    "\n",
    "data = pd.read_csv('winequality-white.csv',sep=\";\")\n",
    "\n",
    "data.loc[data['quality'] <= 5, 'quality'] = 0 #bad\n",
    "data.loc[data['quality'] > 5, 'quality'] = 1  #Good\n",
    "\n",
    "data_labels = data['quality']\n",
    "\n",
    "data = data.drop(columns = ['quality'] )"
   ]
  },
  {
   "cell_type": "code",
   "execution_count": 80,
   "metadata": {},
   "outputs": [
    {
     "name": "stdout",
     "output_type": "stream",
     "text": [
      "Max accuracy:  0.7744897959183673 \n",
      "Optimal K:  1 \n",
      "Optimal test % 0.2\n"
     ]
    }
   ],
   "source": [
    "data_train , data_test, data_labels_train, data_labels_test = train_test_split(data, data_labels, test_size=.3)\n",
    "partitions = [.1, .2, .3, .4]\n",
    "n_neighbors = [1, 5, 9, 11]\n",
    "\n",
    "max_accuracy = 0\n",
    "opt_k = 0\n",
    "opt_part = 0\n",
    "\n",
    "\n",
    "for i in partitions:\n",
    "    data_train , data_test, data_labels_train, data_labels_test = train_test_split(data, data_labels, test_size=i)\n",
    "    for k in n_neighbors:\n",
    "        knn = KNeighborsClassifier(n_neighbors = k)\n",
    "        knn.fit(data_train, data_labels_train)\n",
    "        data_labels_pred = knn.predict(data_test)\n",
    "        accuracy = metrics.accuracy_score(data_labels_test, data_labels_pred)\n",
    "        if(max_accuracy < accuracy):\n",
    "            max_accuracy = accuracy\n",
    "            opt_k = k\n",
    "            opt_part = i\n",
    "        \n",
    "    \n",
    "\n",
    "print(\"Max accuracy: \", max_accuracy, \"\\nOptimal K: \", opt_k, \"\\nOptimal test %\", opt_part)"
   ]
  },
  {
   "cell_type": "code",
   "execution_count": 82,
   "metadata": {},
   "outputs": [
    {
     "data": {
      "text/plain": [
       "0.7479591836734694"
      ]
     },
     "execution_count": 82,
     "metadata": {},
     "output_type": "execute_result"
    }
   ],
   "source": [
    "svc = svm.SVC(kernel='linear').fit(data_train, data_labels_train)\n",
    "print(\"SVC accuracy: \", svc.score(data_test, data_labels_test))\n",
    "    \n",
    "\n"
   ]
  },
  {
   "cell_type": "code",
   "execution_count": 87,
   "metadata": {},
   "outputs": [
    {
     "name": "stdout",
     "output_type": "stream",
     "text": [
      "Cross Validation Score(mean):  0.7470434220674991\n"
     ]
    }
   ],
   "source": [
    "scores = cross_val_score(svc, data , data_labels, cv=5)\n",
    "print(\"Cross Validation Score(mean): \", scores.mean())"
   ]
  },
  {
   "cell_type": "code",
   "execution_count": null,
   "metadata": {},
   "outputs": [],
   "source": []
  }
 ],
 "metadata": {
  "kernelspec": {
   "display_name": "Python 3",
   "language": "python",
   "name": "python3"
  },
  "language_info": {
   "codemirror_mode": {
    "name": "ipython",
    "version": 3
   },
   "file_extension": ".py",
   "mimetype": "text/x-python",
   "name": "python",
   "nbconvert_exporter": "python",
   "pygments_lexer": "ipython3",
   "version": "3.8.0"
  }
 },
 "nbformat": 4,
 "nbformat_minor": 4
}
